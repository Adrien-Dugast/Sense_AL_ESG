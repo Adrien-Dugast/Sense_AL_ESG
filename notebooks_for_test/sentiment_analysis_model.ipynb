{
 "cells": [
  {
   "cell_type": "code",
   "execution_count": 1,
   "metadata": {},
   "outputs": [
    {
     "name": "stderr",
     "output_type": "stream",
     "text": [
      "c:\\Users\\adugast\\HeadMind\\Crédit_agricole\\venvCA\\Lib\\site-packages\\tqdm\\auto.py:21: TqdmWarning: IProgress not found. Please update jupyter and ipywidgets. See https://ipywidgets.readthedocs.io/en/stable/user_install.html\n",
      "  from .autonotebook import tqdm as notebook_tqdm\n",
      "c:\\Users\\adugast\\HeadMind\\Crédit_agricole\\venvCA\\Lib\\site-packages\\huggingface_hub\\file_download.py:139: UserWarning: `huggingface_hub` cache-system uses symlinks by default to efficiently store duplicated files but your machine does not support them in C:\\Users\\adugast\\.cache\\huggingface\\hub\\models--nbroad--ESG-BERT. Caching files will still work but in a degraded version that might require more space on your disk. This warning can be disabled by setting the `HF_HUB_DISABLE_SYMLINKS_WARNING` environment variable. For more details, see https://huggingface.co/docs/huggingface_hub/how-to-cache#limitations.\n",
      "To support symlinks on Windows, you either need to activate Developer Mode or to run Python as an administrator. In order to activate developer mode, see this article: https://docs.microsoft.com/en-us/windows/apps/get-started/enable-your-device-for-development\n",
      "  warnings.warn(message)\n"
     ]
    }
   ],
   "source": [
    "from transformers import pipeline\n",
    "\n",
    "pipe = pipeline(\"text-classification\", model=\"nbroad/ESG-BERT\")"
   ]
  },
  {
   "cell_type": "code",
   "execution_count": 4,
   "metadata": {},
   "outputs": [
    {
     "data": {
      "text/plain": [
       "[{'label': 'Ecological_Impacts', 'score': 0.8550323843955994}]"
      ]
     },
     "execution_count": 4,
     "metadata": {},
     "output_type": "execute_result"
    }
   ],
   "source": [
    "string = \"LONDON, Sept 20 (Reuters) - Brazil has no plan to launch a dedicated sovereign Amazon bond, a senior treasury official told Reuters, and will instead fund protection of the world's biggest rainforest via its new environmental and social bond programme. The question of how to fund protection of one of the world's most vital natural resources has become increasingly urgent and will be a focus at the upcoming United Nations' COP16 biodiversity conference in Colombia in October as well as the COP29 climate talks in Azerbaijan in November.\"\n",
    "# pipe(string)\n",
    "string = \"total made good things for environment, planted trees\"\n",
    "pipe(string)"
   ]
  }
 ],
 "metadata": {
  "kernelspec": {
   "display_name": "venvCA",
   "language": "python",
   "name": "python3"
  },
  "language_info": {
   "codemirror_mode": {
    "name": "ipython",
    "version": 3
   },
   "file_extension": ".py",
   "mimetype": "text/x-python",
   "name": "python",
   "nbconvert_exporter": "python",
   "pygments_lexer": "ipython3",
   "version": "3.11.4"
  }
 },
 "nbformat": 4,
 "nbformat_minor": 2
}
